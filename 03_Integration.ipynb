{
 "cells": [
  {
   "cell_type": "markdown",
   "id": "sufficient-stream",
   "metadata": {},
   "source": [
    "# Automation and integration\n",
    "\n",
    "We have a running Lookyloo instance and can use it to correlate captures and parts of captures with eachother, but it is definitely not enough:\n",
    "\n",
    "1. Feeding manually URLs to lookyloo using the web interface is nice, but it doesn't scale if we have a big amount of URLs to process\n",
    "2. Having a lot of indicators in a lookyloo instance, but we want to share them with colleagues, partners, and correlate them with other datasources\n",
    "\n",
    "In this section, we will use the APIs of Lookyloo, and discover the MISP API in order to make our work more efficient.\n",
    "\n",
    "Note that what we're dong here is pretty much the best case scenario, where there are Python modules for both services and we do not have to reverse engineer the protocol of either services, and then write a python module.\n",
    "\n",
    "## Requirements\n",
    "\n",
    "* Access to a MISP instance\n",
    "  \n",
    "  **Recommendation**: [MISP virtual machine](https://www.misp-project.org/download/#virtual-images), on Virtualbox, running locally.\n",
    "\n",
    "* Access to a Lookyloo instance\n",
    "\n",
    "  **Recommandation**: Lookyloo installed locally following [this procedure](https://www.lookyloo.eu/docs/main/install-lookyloo.html)\n",
    "\n",
    "* Python 3.8+ development environment\n",
    "\n",
    "  **Recommandation**: This jupyter notebook, running locally on Ubuntu 22.04 or more recent, will do the trick.\n",
    "  \n",
    "# Automation \n",
    "\n",
    "## Lookyloo / PyLookyloo\n",
    "\n",
    "[PyLookyloo](https://github.com/Lookyloo/pylookyloo) is a very simple python module that makes it easier to interact with a Lookyloo instance.\n",
    "\n",
    "**Task**: use it to automatically push a bunch of URLs to a Lookyloo intance. This list of URL can come from [phishtank](http://phishtank.org/phish_search.php?valid=y&active=y&Search=Search), or other sources you know about. \n",
    "You can also get a list of URLs from the spam directory in your mailbox for example.\n",
    "\n",
    "The code below is an example from the Pylookyloo [example directory](https://github.com/Lookyloo/PyLookyloo/blob/main/examples/enqueue_list.py). You can use it directly, and improve it later on to fit your needs.\n",
    "\n",
    "**Note**: you need the python module `pylookyloo`. If you're running the notebook as recommended using `poetry`, the dependency is already installed. Otherwise, you can install it by starting a shell in the virtual environment and install with `pip`:\n",
    "\n",
    "```bash\n",
    "poetry shell\n",
    "pip install pylookyloo\n",
    "```\n",
    "\n",
    "Note the path to a list file in the example below, you may want to change that, and the URL is pointing to a local instance, you may want to change that too.\n",
    "\n",
    "**Important**: do not start by pushing houndred of URLs, 5 to 10 will be enough at first."
   ]
  },
  {
   "cell_type": "code",
   "execution_count": null,
   "id": "cellular-athens",
   "metadata": {},
   "outputs": [],
   "source": [
    "from pathlib import Path\n",
    "from sys import exit\n",
    "\n",
    "import requests\n",
    "\n",
    "from pylookyloo import Lookyloo\n",
    "\n",
    "\"\"\"\n",
    "Get all the URLs from a file, check if they are still working (return code <400), push them to lookyloo.\n",
    "\"\"\"\n",
    "\n",
    "list_urls_file = Path('list.txt')\n",
    "lookyloo_url = \"https://127.0.0.1:5100/\"\n",
    "\n",
    "\n",
    "if not list_urls_file.exists():\n",
    "    print(list_urls_file, 'does not exists')\n",
    "    exit()\n",
    "\n",
    "with list_urls_file.open() as f:\n",
    "    urls = set(line.strip() for line in f.readlines())\n",
    "\n",
    "print('To process:', len(urls))\n",
    "\n",
    "lookyloo = Lookyloo(lookyloo_url)\n",
    "\n",
    "for url in urls:\n",
    "    try:\n",
    "        print(url)\n",
    "        response = requests.head(url, allow_redirects=True, timeout=3)\n",
    "        response.raise_for_status()\n",
    "        permaurl = lookyloo.enqueue(url, listing=True, quiet=True)\n",
    "        print(f'Enqueued: {url} - Permaurl: {permaurl}')\n",
    "    except Exception as e:\n",
    "        print(f\"{url} is down: {e}\")\n"
   ]
  },
  {
   "cell_type": "markdown",
   "id": "backed-track",
   "metadata": {},
   "source": [
    "When the script is done running, have look at captures on the lookyloo instance, make sure everything worked as expected, at least some of the captures are present (we skip the dead URLs), and find more URLs if needed.\n",
    "\n",
    "Keep in mind that the captures are processed by the async module sequentially, and each will take 30s to a minute to finish, so it may take a bit of time before all the URLs you want to capture are done."
   ]
  },
  {
   "cell_type": "markdown",
   "id": "c869e7ba-6f01-4c78-b362-23895a5b6cc4",
   "metadata": {},
   "source": [
    "The complete documentation for the Lookyloo API is availble on [the demo instance](https://lookyloo.circl.lu/doc/)."
   ]
  },
  {
   "cell_type": "markdown",
   "id": "operating-colors",
   "metadata": {},
   "source": [
    "# MISP / PyMISP / Configuration\n",
    "\n",
    "Lookyloo v1.4.0 officially [supports MISP](https://github.com/Lookyloo/lookyloo/releases/tag/v1.4.0) in a few different ways:\n",
    "1. Export in MISP Json format on `http://127.0.0.1:5100/json/<tree_UUID>/misp_export` - can be used by anyone with access to the platform\n",
    "2. Push to a preconfigured MISP instance **with** user interaction - requires authentication\n",
    "3. Push to a preconfigured MISP instance **without** user interaction - requires authentication\n",
    "\n",
    "\n",
    "The 1st option doesn't requires any configuration and can be used out of the box as soon as you have a capture. But none of that is automated, we will look at it last.\n",
    "\n",
    "The next two options require some configuration, the following assumes you have access to a system where a Lookyloo instance is running, and access to a MISP instance (web interface):\n",
    "1. Configure the [authentication on Lookyloo](https://www.lookyloo.eu/docs/main/lookyloo-auth.html)\n",
    "2. Create a [dedicated user on MISP](https://www.circl.lu/doc/misp/administration/#adding-a-new-user) - the user should be setup [this way](https://www.lookyloo.eu/docs/main/lookyloo-integration.html#_recommended_setup_on_misp_side)\n",
    "3. Configure the [MISP module on Lookyloo](https://www.lookyloo.eu/docs/main/lookyloo-integration.html#_misp) accordingly\n",
    "\n",
    "## Integration with user interaction via the UI\n",
    "\n",
    "In order to test the setup, we will start with the 2nd aproach: pushing a capture to MISP **with** user interaction:\n",
    "\n",
    "1. Initialize an authenticated session on `http://127.0.0.1:5100/login`, and enter login/password you configured\n",
    "2. Open a capture and you should see an entry `Prepare push to MISP` in the menu on the left, click on it\n",
    "     \n",
    "     If the entry is missing, it is either because you're not authenticated, the MISP module isn't enabled, or the MISP instance is unreachable (look in the logs).\n",
    "\n",
    "3. Select tags if needed, push to MISP\n",
    "4. Look at the event on MISP\n",
    "\n",
    "## Integration without user interaction via PyLookyloo\n",
    "\n",
    "If you want to push a vast amount of captures to a MISP instance, it will be a problem so you want to automate that, and that's where you're going to use PyLookyloo:"
   ]
  },
  {
   "cell_type": "code",
   "execution_count": null,
   "id": "cognitive-microwave",
   "metadata": {},
   "outputs": [],
   "source": [
    "from pylookyloo import Lookyloo\n",
    "import json\n",
    "\n",
    "lookyloo_url = \"http://0.0.0.0:5100\"\n",
    "                                                                  \n",
    "lookyloo = Lookyloo(lookyloo_url)\n",
    "lookyloo.init_apikey(username='admin', password='hacklu2023')\n",
    "event = lookyloo.misp_push('0e41b66f-11f1-46fa-82c2-1f7a0e4e3fba')\n",
    "\n",
    "print(json.dumps(event, indent=2))"
   ]
  },
  {
   "cell_type": "markdown",
   "id": "vanilla-actor",
   "metadata": {},
   "source": [
    "As on the web interface, you need to be authenticated in order to push an event to MISP, and the authenticated calls to Lookyloo require an authentication key that will be passed in the headers.\n",
    "\n",
    "To make your live easier, the method `init_apikey` will take care of initializing the proper things and allow you to do the authenticated calls.\n",
    "\n",
    "**Task**: write a script that pushes to MISP all the captures with more than 1 redirect (`get_redirects` in PyLookyloo will help you there). You probably want to reuse the initial script and merge it with the one above."
   ]
  },
  {
   "cell_type": "markdown",
   "id": "bright-shipping",
   "metadata": {},
   "source": [
    "## Manual integration\n",
    "\n",
    "With many services, you either need to do the integration manually or you may want more flexibility that what the integration allows you to do.\n",
    "\n",
    "In that case, you will do something along these lines:"
   ]
  },
  {
   "cell_type": "code",
   "execution_count": null,
   "id": "complete-clock",
   "metadata": {},
   "outputs": [],
   "source": [
    "from pylookyloo import Lookyloo\n",
    "from pymisp import MISPEvent, PyMISP\n",
    "import json\n",
    "                                                                   \n",
    "lookyloo_url = \"http://0.0.0.0:5100\"\n",
    "                                                                  \n",
    "lookyloo = Lookyloo(lookyloo_url)\n",
    "e = lookyloo.misp_export('6ae2afdc-4d90-41ce-9cae-510daf1e6577')\n",
    "\n",
    "event = MISPEvent()\n",
    "event.load(e[0])\n",
    "event.add_attribute('text', 'This is my event, I changed it.')\n",
    "\n",
    "misp = PyMISP(url=\"https://127.0.0.1:8443\", key=\"d6OmdDFvU3Seau3UjwvHS1y3tFQbaRNhJhDX0tjh\", ssl=False)\n",
    "new_event = misp.add_event(event, pythonify=True)\n",
    "\n",
    "print(new_event.objects)"
   ]
  },
  {
   "cell_type": "markdown",
   "id": "metric-october",
   "metadata": {},
   "source": [
    "**Notes**:\n",
    "* Doesn't require authentication on Lookyloo side\n",
    "* Allows to modify the data before you push to MISP\n",
    "\n",
    "**Tasks**:\n",
    "* Look at the [PyMISP documentation](https://pymisp.readthedocs.io/en/latest/index.html)\n",
    "* Modify the event you just got from Lookyloo with more details. \n",
    "\n",
    "**Example 1:** The URL you captured comes from a mail\n",
    "1. create a [MISPObject of type email](https://github.com/MISP/PyMISP/blob/main/examples/add_email_object.py), \n",
    "2. attach it to the event\n",
    "3. push the whole thing to MISP"
   ]
  },
  {
   "cell_type": "code",
   "execution_count": null,
   "id": "partial-contribution",
   "metadata": {},
   "outputs": [],
   "source": [
    "import re\n",
    "from pymisp.tools import EMailObject\n",
    "\n",
    "email_obj = EMailObject('email.txt')\n",
    "\n",
    "lookyloo = Lookyloo(lookyloo_url)\n",
    "\n",
    "uuids = []\n",
    "for url in re.findall('(http:.*)', email_obj.get_attributes_by_relation('email-body')[0].value):    \n",
    "    try:\n",
    "        print(url)\n",
    "        response = requests.head(url, allow_redirects=True, timeout=3)\n",
    "        response.raise_for_status()\n",
    "        uuid = lookyloo.enqueue(url, listing=True, quiet=True)\n",
    "        uuids.append(uuid)\n",
    "        print(f'Enqueued: {uuid}')\n",
    "    except Exception as e:\n",
    "        print(f\"{url} is down: {e}\")\n",
    "    "
   ]
  },
  {
   "cell_type": "code",
   "execution_count": null,
   "id": "attractive-wilderness",
   "metadata": {},
   "outputs": [],
   "source": [
    "uuids"
   ]
  },
  {
   "cell_type": "code",
   "execution_count": null,
   "id": "executive-ivory",
   "metadata": {},
   "outputs": [],
   "source": [
    "events = []\n",
    "\n",
    "for uuid in uuids:\n",
    "    print(uuid)\n",
    "    e = lookyloo.misp_export(uuid)\n",
    "    events.append(e)\n",
    "\n",
    "master_event = MISPEvent()\n",
    "master_event.info = 'Master event from mail'\n",
    "\n",
    "for e in events: \n",
    "    event = MISPEvent()\n",
    "    event.load(e)\n",
    "    print(event.info)\n",
    "    for a in event.attributes:\n",
    "        print(a)\n",
    "        master_event.add_attribute(**a)\n",
    "    for o in event.objects:\n",
    "        master_event.add_object(**o)\n",
    "\n",
    "master_event.add_object(**email_obj)"
   ]
  },
  {
   "cell_type": "code",
   "execution_count": null,
   "id": "boring-approach",
   "metadata": {},
   "outputs": [],
   "source": [
    "misp = PyMISP(url=\"https://127.0.0.1:8443\", key=\"d6OmdDFvU3Seau3UjwvHS1y3tFQbaRNhJhDX0tjh\", ssl=False)\n",
    "new_event = misp.add_event(master_event, pythonify=True)"
   ]
  },
  {
   "cell_type": "markdown",
   "id": "swiss-generator",
   "metadata": {},
   "source": [
    "**Example 2:** Do the same thing, but with multiple emails, and multiple URLs per email\n",
    "1. Export emails from your mailbox\n",
    "2. extract one or more URL(s) from the mails\n",
    "3. capture them with lookyloo\n",
    "4. get the event(s) from Lookyloo\n",
    "5. (if necessary) merge the events \n",
    "6. attach the email to the final event\n",
    "7. push it to MISP"
   ]
  },
  {
   "cell_type": "markdown",
   "id": "b13de898-459a-411a-b804-cfd4f17e6506",
   "metadata": {},
   "source": [
    "# Phishtank Lookup Integration\n",
    "\n",
    "[Phishtank Lookup](https://phishtankapi.circl.lu/) is a simple tool to query the current phishing URLs on [Phishtank](https://phishtank.org/)."
   ]
  },
  {
   "cell_type": "code",
   "execution_count": null,
   "id": "eea3e3fa-8bb3-40a0-bb63-b97978e2f707",
   "metadata": {},
   "outputs": [],
   "source": [
    "import requests\n",
    "import time\n",
    "\n",
    "from pylookyloo import Lookyloo\n",
    "from pymisp import MISPEvent\n",
    "from pyphishtanklookup import PhishtankLookup\n",
    "\n",
    "lookyloo_url = 'http://127.0.0.1:5100'\n",
    "\n",
    "lookyloo = Lookyloo(lookyloo_url)\n",
    "lookyloo.init_apikey(username='admin', password='hacklu2023')\n",
    "\n",
    "phishtank = PhishtankLookup()\n",
    "urls_in_Luxembourg = phishtank.get_urls_by_cc('LU')\n",
    "\n",
    "uuids = {}\n",
    "for url in urls_in_Luxembourg:\n",
    "    try:\n",
    "        print(url)\n",
    "        response = requests.head(url, allow_redirects=True, timeout=3)\n",
    "        response.raise_for_status()\n",
    "        uuid = lookyloo.enqueue(url, listing=True, quiet=True)\n",
    "        uuids[uuid] = False\n",
    "        print(f'Enqueued: {url} - UUID: {uuid}')\n",
    "        break\n",
    "    except Exception as e:\n",
    "        print(f\"{url} is down: {e}\")\n",
    "\n",
    "# all the URLs are enqueued\n",
    "        \n",
    "while not all(uuids.values()):\n",
    "    print(uuids)\n",
    "    for uuid in uuids.keys():\n",
    "        uuids[uuid] = lookyloo.get_status(uuid)['status_code'] == 1\n",
    "    time.sleep(10)\n",
    "    \n",
    "# All the captures are done\n",
    "\n",
    "for uuid in uuids.keys():\n",
    "    misp_event = lookyloo.misp_push(uuid)\n",
    "    if 'error' in misp_event:\n",
    "        print(uuid, misp_event)\n",
    "    else:\n",
    "        for event in misp_event:\n",
    "            me = MISPEvent()\n",
    "            me.from_json(event)\n",
    "            print(uuid, me.info, me.id)\n",
    "    "
   ]
  },
  {
   "cell_type": "markdown",
   "id": "1897b1ef-bfff-410e-921f-e28e0816b577",
   "metadata": {},
   "source": [
    "# Static file analysis with Pandora\n",
    "\n",
    "Currently missing features in the python module: https://github.com/pandora-analysis/pypandora/issues/33\n",
    "\n",
    "Your organisation and/or friends receive all kind of random files, generally by email, from trusted or untructed sources and they either have to, or want to open them. \n",
    "\n",
    "In practice, they most of the time simply want to see what's in the file and a screenshot will do."
   ]
  },
  {
   "cell_type": "code",
   "execution_count": null,
   "id": "f319e719-1025-40c1-9667-6cc222f86671",
   "metadata": {},
   "outputs": [],
   "source": [
    "from pypandora import PyPandora\n",
    "\n",
    "p = PyPandora(\"https://pandora-demo.yoyodyne-it.eu\")"
   ]
  },
  {
   "cell_type": "code",
   "execution_count": null,
   "id": "430b5ecb-8c54-45ca-9ed1-d7d302072438",
   "metadata": {},
   "outputs": [],
   "source": [
    "p.is_up"
   ]
  },
  {
   "cell_type": "code",
   "execution_count": null,
   "id": "7dd3cad4-4453-4d5c-ade5-8adaa6c2db57",
   "metadata": {},
   "outputs": [],
   "source": [
    "p.init_apikey('admin', 'hacklu2023')"
   ]
  },
  {
   "cell_type": "code",
   "execution_count": null,
   "id": "31ad2e6d-1ca2-4349-aa32-371988fb1188",
   "metadata": {},
   "outputs": [],
   "source": [
    "p.apikey"
   ]
  },
  {
   "cell_type": "code",
   "execution_count": null,
   "id": "13f7dcf4-fb48-4bb6-949c-9e5d222177ec",
   "metadata": {},
   "outputs": [],
   "source": [
    "p.submit_from_disk(\"./BigPicture.png\", seed_expire=3600)"
   ]
  },
  {
   "cell_type": "code",
   "execution_count": null,
   "id": "f238b035-588b-432c-b720-117a9b11845a",
   "metadata": {},
   "outputs": [],
   "source": [
    "p.get_stats()"
   ]
  },
  {
   "cell_type": "markdown",
   "id": "cf3baa38-798a-42ec-90c5-a38f16a0a112",
   "metadata": {},
   "source": [
    "# PyLacus / LacusCore\n",
    "\n",
    "* **PyLacus**: Use this library to submit a capture to a Lacus webservice"
   ]
  },
  {
   "cell_type": "code",
   "execution_count": null,
   "id": "2aa96d95-548e-4d1d-8605-aca1c1cdc81c",
   "metadata": {},
   "outputs": [],
   "source": [
    "import time\n",
    "\n",
    "from pylacus import PyLacus, CaptureStatus, CaptureResponse\n",
    "\n",
    "lacus = PyLacus(\"https://lacus-demo.yoyodyne-it.eu/\")\n",
    "if lacus.is_up:\n",
    "    print(\"Lacus is up and running\")\n",
    "\n",
    "uuid = lacus.enqueue(url=\"wort.lu\")\n",
    "\n",
    "while lacus.get_capture_status(uuid) != CaptureStatus.DONE:\n",
    "    print(f\"Capture {uuid} not done yet.\")\n",
    "    time.sleep(15)\n",
    "\n",
    "print(f\"Capture {uuid} done.\")\n",
    "\n",
    "result = lacus.get_capture(uuid)"
   ]
  },
  {
   "cell_type": "code",
   "execution_count": null,
   "id": "d959bb97-f490-4d4f-b9e5-ad4709c763c8",
   "metadata": {},
   "outputs": [],
   "source": [
    "result.keys()"
   ]
  },
  {
   "cell_type": "markdown",
   "id": "ce6100a3-6e26-49ac-be1c-9f0ccc25a695",
   "metadata": {},
   "source": [
    "* **LacusCore**: Use this library to trigger the capture directly, without using the Lacus web service\n",
    "\n",
    "As LacusCore triggers the capture directly, you need to run the commands below to install the required dependencies and browsers:\n",
    "\n",
    "```bash\n",
    "poetry run playwright install-deps\n",
    "poetry run playwright install\n",
    "```\n",
    "\n",
    "You will also need to have a redis instance running locally. It can either installed via `apt install redis` or cloned from the repository and installed manually. The code below assumes default hostname and port, change accordingly.\n",
    "\n",
    "It also expects you to have a tor proxy running, feel free to remove the line if needed."
   ]
  },
  {
   "cell_type": "code",
   "execution_count": null,
   "id": "48d0f625-2e2e-421e-99c8-a49a78207d7a",
   "metadata": {},
   "outputs": [],
   "source": [
    "import time\n",
    "\n",
    "from redis import Redis\n",
    "\n",
    "from lacuscore import LacusCore, CaptureStatus, CaptureResponse\n",
    "\n",
    "redis = Redis('127.0.0.1', 6379)\n",
    "\n",
    "lacus = LacusCore(redis, \n",
    "                  tor_proxy=\"socks5://127.0.0.1:9050\", \n",
    "                  max_capture_time=300, \n",
    "                  only_global_lookups=False)\n",
    "uuid = lacus.enqueue(url=\"rtl.lu\")\n",
    "\n",
    "# This loop can run in another process\n",
    "for capture_task in lacus.consume_queue(10):\n",
    "    print(f'Waiting for Task {capture_task.get_name()} to finish.')\n",
    "    await capture_task\n",
    "    print(f'Task {capture_task.get_name()} done.')\n",
    "else:\n",
    "    print('Nothing to consume, the capture might already me cached.')\n",
    "\n",
    "# If the loop above runs in another process, you need to check the status\n",
    "\n",
    "while lacus.get_capture_status(uuid) != CaptureStatus.DONE:\n",
    "    print(f\"Capture {uuid} not done yet.\")\n",
    "    time.sleep(15)\n",
    "print(f\"Capture {uuid} done (from status call).\")\n",
    "\n",
    "result = lacus.get_capture(uuid)"
   ]
  },
  {
   "cell_type": "code",
   "execution_count": null,
   "id": "b45ed122-4f5a-487f-979f-c4b950b55318",
   "metadata": {},
   "outputs": [],
   "source": [
    "result.keys()"
   ]
  },
  {
   "cell_type": "code",
   "execution_count": null,
   "id": "fb83c02b-d6d9-4738-919e-d8d3cdaa2d51",
   "metadata": {},
   "outputs": [],
   "source": []
  }
 ],
 "metadata": {
  "kernelspec": {
   "display_name": "Python 3 (ipykernel)",
   "language": "python",
   "name": "python3"
  },
  "language_info": {
   "codemirror_mode": {
    "name": "ipython",
    "version": 3
   },
   "file_extension": ".py",
   "mimetype": "text/x-python",
   "name": "python",
   "nbconvert_exporter": "python",
   "pygments_lexer": "ipython3",
   "version": "3.11.4"
  }
 },
 "nbformat": 4,
 "nbformat_minor": 5
}
